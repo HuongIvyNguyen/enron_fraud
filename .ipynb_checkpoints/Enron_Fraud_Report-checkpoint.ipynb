{
 "cells": [
  {
   "cell_type": "markdown",
   "metadata": {
    "collapsed": true
   },
   "source": [
    "# Investigating Fraud from Enron Email Dataset\n",
    "\n",
    "#### By Huong Ivy Nguyen\n",
    "\n",
    "## Introduction:\n",
    "\n",
    "The name ‘Enron’ for this project came from the famous scandal ‘Enron scandal’  in the corporate world. It was also the name of a company Enron Corporation, an American energy, commodities, and services company based in Houston, Texas. Enron Corporation was founded in 1985 by Kenneth Lay after merging Houston Natural Gas and InterNorth before its bankruptcy on December 2, 2001.  After a a thorough investigation, it was revealed that the financial conditions of Enron was ran by institutionalized systematic planned accountant fraud, which is now known as the Enron scandal. This investigation also left behind a public large dataset of the company’s emails, which is known as the Enron Corpus. \n",
    "In this project, the emails and financial data of 146 executives will be investigated in order to identify the person of interest (POI) in the Enron fraud. A POI is defined as someone either was indicted for fraud, settled with the government, or testified in exchange for immunity.  \n",
    "In summary, there are 4 major steps in the overall project:\n",
    "+ Data exploration: identify and remove outliers\n",
    "+ Feature processing\n",
    "+ Algorithm Development\n",
    "+ Validation \n",
    "\n",
    "To start, I would like to import all the necessary packages for the data analysis. "
   ]
  },
  {
   "cell_type": "code",
   "execution_count": 3,
   "metadata": {
    "collapsed": false
   },
   "outputs": [],
   "source": [
    "import os\n",
    "os.chdir('/home/ives/Documents/ud_machine_learning/ud120-projects/final_project/')\n",
    "\n",
    "from IPython.display import Image\n",
    "import matplotlib.pyplot as plt\n",
    "import sys\n",
    "import pickle\n",
    "from sklearn import preprocessingl\n",
    "from sklearn.naive_bayes import GaussianNB\n",
    "from sklearn.metrics import accuracy_score\n",
    "from sklearn.grid_search import GridSearchCV\n",
    "from sklearn.metrics import precision_score\n",
    "from sklearn.metrics import recall_score\n",
    "sys.path.append(\"../tools/\")\n",
    "\n",
    "from feature_format import featureFormat\n",
    "from feature_format import targetFeatureSplit"
   ]
  },
  {
   "cell_type": "code",
   "execution_count": null,
   "metadata": {
    "collapsed": true
   },
   "outputs": [],
   "source": [
    "##3 Load Enron dataset\n",
    "data_dict = pickle.load(open(\"final_project_dataset.pkl\", \"r\"))"
   ]
  }
 ],
 "metadata": {
  "anaconda-cloud": {},
  "kernelspec": {
   "display_name": "Python 2",
   "language": "python",
   "name": "python2"
  },
  "language_info": {
   "codemirror_mode": {
    "name": "ipython",
    "version": 2
   },
   "file_extension": ".py",
   "mimetype": "text/x-python",
   "name": "python",
   "nbconvert_exporter": "python",
   "pygments_lexer": "ipython2",
   "version": "2.7.13"
  }
 },
 "nbformat": 4,
 "nbformat_minor": 1
}
